{
  "nbformat": 4,
  "nbformat_minor": 0,
  "metadata": {
    "colab": {
      "provenance": [],
      "authorship_tag": "ABX9TyPSsRe1+Qq73HkVB+cL3Vno",
      "include_colab_link": true
    },
    "kernelspec": {
      "name": "python3",
      "display_name": "Python 3"
    },
    "language_info": {
      "name": "python"
    }
  },
  "cells": [
    {
      "cell_type": "markdown",
      "metadata": {
        "id": "view-in-github",
        "colab_type": "text"
      },
      "source": [
        "<a href=\"https://colab.research.google.com/github/Farah-Saleem91/Prediction-of-product-sales/blob/main/prediction%20of%20product%20sales.ipynb\" target=\"_parent\"><img src=\"https://colab.research.google.com/assets/colab-badge.svg\" alt=\"Open In Colab\"/></a>"
      ]
    },
    {
      "cell_type": "code",
      "execution_count": null,
      "metadata": {
        "id": "xoHEuAU_0W12"
      },
      "outputs": [],
      "source": []
    },
    {
      "cell_type": "markdown",
      "source": [
        "#Prediction of Product Sales\n",
        "- Done by Farah Saleem\n",
        "\n",
        "\n",
        "\n"
      ],
      "metadata": {
        "id": "XrmjeWXC0cxb"
      }
    },
    {
      "cell_type": "markdown",
      "source": [
        "##Project Overview\n"
      ],
      "metadata": {
        "id": "S5y-fz0g4aNt"
      }
    },
    {
      "cell_type": "markdown",
      "source": [
        "##Load and inspect Data"
      ],
      "metadata": {
        "id": "3XNBLLQU4EJ6"
      }
    },
    {
      "cell_type": "code",
      "source": [
        "print('hi')"
      ],
      "metadata": {
        "colab": {
          "base_uri": "https://localhost:8080/"
        },
        "id": "p_uXwCoT2v8D",
        "outputId": "cf6edd0d-6eaf-42b1-ebe1-b83db48bd2de"
      },
      "execution_count": 1,
      "outputs": [
        {
          "output_type": "stream",
          "name": "stdout",
          "text": [
            "hi\n"
          ]
        }
      ]
    },
    {
      "cell_type": "markdown",
      "source": [
        "###Clean Data\n"
      ],
      "metadata": {
        "id": "WKxFjQXS2wsh"
      }
    },
    {
      "cell_type": "code",
      "source": [],
      "metadata": {
        "id": "yWB8i0ze3gkn"
      },
      "execution_count": null,
      "outputs": []
    },
    {
      "cell_type": "markdown",
      "source": [
        "###Exploratory Data Analysis"
      ],
      "metadata": {
        "id": "L3B0ve_d0kqT"
      }
    },
    {
      "cell_type": "code",
      "source": [],
      "metadata": {
        "id": "Zu2489MN0gUb"
      },
      "execution_count": null,
      "outputs": []
    },
    {
      "cell_type": "markdown",
      "source": [
        "###Feature Inspection\n"
      ],
      "metadata": {
        "id": "QUPlRNbA3z-w"
      }
    },
    {
      "cell_type": "code",
      "source": [],
      "metadata": {
        "id": "nho3u-gk38OG"
      },
      "execution_count": null,
      "outputs": []
    }
  ]
}